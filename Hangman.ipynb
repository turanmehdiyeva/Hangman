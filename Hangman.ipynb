{
 "cells": [
  {
   "cell_type": "code",
   "execution_count": 1,
   "id": "d4ad2205",
   "metadata": {},
   "outputs": [],
   "source": [
    "import numpy as np\n",
    "import pandas as pd"
   ]
  },
  {
   "cell_type": "code",
   "execution_count": 2,
   "id": "61a1a0b0",
   "metadata": {},
   "outputs": [],
   "source": [
    "words = open(r'C:\\Users\\NRservic\\Desktop\\__pycache__\\words.txt')"
   ]
  },
  {
   "cell_type": "code",
   "execution_count": 3,
   "id": "e4e92d8e",
   "metadata": {},
   "outputs": [],
   "source": [
    "words = words.read()"
   ]
  },
  {
   "cell_type": "code",
   "execution_count": 4,
   "id": "35422be9",
   "metadata": {},
   "outputs": [],
   "source": [
    "removed = words.replace('\"', '')"
   ]
  },
  {
   "cell_type": "code",
   "execution_count": 5,
   "id": "f780bc67",
   "metadata": {},
   "outputs": [],
   "source": [
    "wordslist = removed.split(',')"
   ]
  },
  {
   "cell_type": "code",
   "execution_count": 6,
   "id": "ec54a3ac",
   "metadata": {},
   "outputs": [],
   "source": [
    "def rep(string,position,new_character):\n",
    "    string = string[:position] + new_character + string[position+1:]\n",
    "    return string"
   ]
  },
  {
   "cell_type": "code",
   "execution_count": 23,
   "id": "782aa02d",
   "metadata": {},
   "outputs": [],
   "source": [
    "def Hangman():\n",
    "    x = np.random.choice(wordslist,1)\n",
    "    g = '-'*len(x[0])\n",
    "    s = ''\n",
    "    for i in range(10):\n",
    "        print(f'Welcome, you have to guess a word of {len(x[0])} {g.upper()} letters\\nYou have {10-i} lives')\n",
    "        a = input('Enter a letter: ')\n",
    "        s+=a\n",
    "        if a in x[0]:\n",
    "            b = x[0].index(a)\n",
    "            g = rep(g,x[0].index(a),a)\n",
    "            if x[0].count(a)>=2:\n",
    "                t = x[0].find(a,b+1)\n",
    "                g = rep(g,t,a)\n",
    "            print(f'Yay correct letter\\n {g.upper()}\\nUsed letter: {s.upper()}')\n",
    "        else:\n",
    "            print(f'Wrong answer\\nUsed letters: {s.upper()}')\n",
    "        if (g.count('-'))==0:\n",
    "            return 'congrats'\n",
    "        else:\n",
    "            continue\n",
    "    print(f'Game ended\\nYour word was: {x[0].upper()}')  "
   ]
  },
  {
   "cell_type": "code",
   "execution_count": 24,
   "id": "d4eb431e",
   "metadata": {},
   "outputs": [
    {
     "name": "stdout",
     "output_type": "stream",
     "text": [
      "Welcome, you have to guess a word of 9 --------- letters\n",
      "You have 10 lives\n",
      "Enter a letter: a\n",
      "Wrong answer\n",
      "Used letters: A\n",
      "Welcome, you have to guess a word of 9 --------- letters\n",
      "You have 9 lives\n",
      "Enter a letter: r\n",
      "Yay correct letter\n",
      " ----R----\n",
      "Used letter: AR\n",
      "Welcome, you have to guess a word of 9 ----R---- letters\n",
      "You have 8 lives\n",
      "Enter a letter: m\n",
      "Yay correct letter\n",
      " -M--R----\n",
      "Used letter: ARM\n",
      "Welcome, you have to guess a word of 9 -M--R---- letters\n",
      "You have 7 lives\n",
      "Enter a letter: e\n",
      "Yay correct letter\n",
      " -M-ER-E--\n",
      "Used letter: ARME\n",
      "Welcome, you have to guess a word of 9 -M-ER-E-- letters\n",
      "You have 6 lives\n",
      "Enter a letter: l\n",
      "Wrong answer\n",
      "Used letters: ARMEL\n",
      "Welcome, you have to guess a word of 9 -M-ER-E-- letters\n",
      "You have 5 lives\n",
      "Enter a letter: o\n",
      "Wrong answer\n",
      "Used letters: ARMELO\n",
      "Welcome, you have to guess a word of 9 -M-ER-E-- letters\n",
      "You have 4 lives\n",
      "Enter a letter: d\n",
      "Wrong answer\n",
      "Used letters: ARMELOD\n",
      "Welcome, you have to guess a word of 9 -M-ER-E-- letters\n",
      "You have 3 lives\n",
      "Enter a letter: n\n",
      "Wrong answer\n",
      "Used letters: ARMELODN\n",
      "Welcome, you have to guess a word of 9 -M-ER-E-- letters\n",
      "You have 2 lives\n",
      "Enter a letter: y\n",
      "Wrong answer\n",
      "Used letters: ARMELODNY\n",
      "Welcome, you have to guess a word of 9 -M-ER-E-- letters\n",
      "You have 1 lives\n",
      "Enter a letter: t\n",
      "Yay correct letter\n",
      " -M-ER-E-T\n",
      "Used letter: ARMELODNYT\n",
      "Game ended\n",
      "Your word was: IMPERFECT\n"
     ]
    }
   ],
   "source": [
    "Hangman()"
   ]
  },
  {
   "cell_type": "code",
   "execution_count": 21,
   "id": "58d252c5",
   "metadata": {},
   "outputs": [],
   "source": [
    "def Hangman():\n",
    "    x = np.random.choice(wordslist,1)\n",
    "    g = '-'*len(x[0])\n",
    "    s = ''\n",
    "    lst = []\n",
    "    lst[:0] = x[0]\n",
    "    arr1 = np.array(lst)\n",
    "    for i in range(10):\n",
    "        print(f'Welcome, you have to guess a word of {len(x[0])} {g.upper()} letters\\nYou have {10-i} lives')\n",
    "        a = input('Enter a letter: ')\n",
    "        s+=a\n",
    "        if a in x[0]:\n",
    "            item_index = np.where(arr1==a)\n",
    "            for i in item_index[0]:\n",
    "                g = rep(g,i,a)\n",
    "            print(f'Yay correct letter\\n {g.upper()}\\nUsed letter: {s.upper()}')\n",
    "        else:\n",
    "            print(f'Wrong answer\\nUsed letters: {s.upper()}')\n",
    "        if (g.count('-'))==0:\n",
    "            return 'congrats'\n",
    "        else:\n",
    "            continue\n",
    "    print(f'Game ended\\nYour word was: {x[0].upper()}')  "
   ]
  },
  {
   "cell_type": "code",
   "execution_count": 22,
   "id": "bec37980",
   "metadata": {},
   "outputs": [
    {
     "name": "stdout",
     "output_type": "stream",
     "text": [
      "Welcome, you have to guess a word of 9 --------- letters\n",
      "You have 10 lives\n",
      "Enter a letter: a\n",
      "Yay correct letter\n",
      " -A-------\n",
      "Used letter: A\n",
      "Welcome, you have to guess a word of 9 -A------- letters\n",
      "You have 9 lives\n",
      "Enter a letter: t\n",
      "Wrong answer\n",
      "Used letters: AT\n",
      "Welcome, you have to guess a word of 9 -A------- letters\n",
      "You have 8 lives\n",
      "Enter a letter: r\n",
      "Yay correct letter\n",
      " -AR------\n",
      "Used letter: ATR\n",
      "Welcome, you have to guess a word of 9 -AR------ letters\n",
      "You have 7 lives\n",
      "Enter a letter: k\n",
      "Wrong answer\n",
      "Used letters: ATRK\n",
      "Welcome, you have to guess a word of 9 -AR------ letters\n",
      "You have 6 lives\n",
      "Enter a letter: e\n",
      "Yay correct letter\n",
      " -AR-E----\n",
      "Used letter: ATRKE\n",
      "Welcome, you have to guess a word of 9 -AR-E---- letters\n",
      "You have 5 lives\n",
      "Enter a letter: l\n",
      "Yay correct letter\n",
      " -AR-EL---\n",
      "Used letter: ATRKEL\n",
      "Welcome, you have to guess a word of 9 -AR-EL--- letters\n",
      "You have 4 lives\n",
      "Enter a letter: y\n",
      "Wrong answer\n",
      "Used letters: ATRKELY\n",
      "Welcome, you have to guess a word of 9 -AR-EL--- letters\n",
      "You have 3 lives\n",
      "Enter a letter: h\n",
      "Wrong answer\n",
      "Used letters: ATRKELYH\n",
      "Welcome, you have to guess a word of 9 -AR-EL--- letters\n",
      "You have 2 lives\n",
      "Enter a letter: n\n",
      "Wrong answer\n",
      "Used letters: ATRKELYHN\n",
      "Welcome, you have to guess a word of 9 -AR-EL--- letters\n",
      "You have 1 lives\n",
      "Enter a letter: i\n",
      "Wrong answer\n",
      "Used letters: ATRKELYHNI\n",
      "Game ended\n",
      "Your word was: MARVELOUS\n"
     ]
    }
   ],
   "source": [
    "Hangman()"
   ]
  },
  {
   "cell_type": "code",
   "execution_count": null,
   "id": "7efef258",
   "metadata": {},
   "outputs": [],
   "source": []
  }
 ],
 "metadata": {
  "kernelspec": {
   "display_name": "Python 3 (ipykernel)",
   "language": "python",
   "name": "python3"
  },
  "language_info": {
   "codemirror_mode": {
    "name": "ipython",
    "version": 3
   },
   "file_extension": ".py",
   "mimetype": "text/x-python",
   "name": "python",
   "nbconvert_exporter": "python",
   "pygments_lexer": "ipython3",
   "version": "3.8.1"
  }
 },
 "nbformat": 4,
 "nbformat_minor": 5
}
